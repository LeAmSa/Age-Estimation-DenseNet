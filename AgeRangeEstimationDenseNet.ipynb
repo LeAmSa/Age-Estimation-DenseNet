{
  "nbformat": 4,
  "nbformat_minor": 0,
  "metadata": {
    "colab": {
      "name": "AgeRangeEstimationDenseNet.ipynb",
      "provenance": [],
      "collapsed_sections": [],
      "toc_visible": true
    },
    "kernelspec": {
      "name": "python3",
      "display_name": "Python 3"
    },
    "accelerator": "GPU"
  },
  "cells": [
    {
      "cell_type": "code",
      "metadata": {
        "id": "6_9I7RUUNZkv",
        "colab_type": "code",
        "outputId": "eaeee842-e972-4789-a10f-5ac378b21fc9",
        "colab": {
          "base_uri": "https://localhost:8080/",
          "height": 122
        }
      },
      "source": [
        "from google.colab import drive\n",
        "\n",
        "GOOGLE_DRIVE_MOUNT_DIR = \"/content/drive\"\n",
        "drive.mount(GOOGLE_DRIVE_MOUNT_DIR, force_remount=True)"
      ],
      "execution_count": 0,
      "outputs": [
        {
          "output_type": "stream",
          "text": [
            "Go to this URL in a browser: https://accounts.google.com/o/oauth2/auth?client_id=947318989803-6bn6qk8qdgf4n4g3pfee6491hc0brc4i.apps.googleusercontent.com&redirect_uri=urn%3aietf%3awg%3aoauth%3a2.0%3aoob&response_type=code&scope=email%20https%3a%2f%2fwww.googleapis.com%2fauth%2fdocs.test%20https%3a%2f%2fwww.googleapis.com%2fauth%2fdrive%20https%3a%2f%2fwww.googleapis.com%2fauth%2fdrive.photos.readonly%20https%3a%2f%2fwww.googleapis.com%2fauth%2fpeopleapi.readonly\n",
            "\n",
            "Enter your authorization code:\n",
            "··········\n",
            "Mounted at /content/drive\n"
          ],
          "name": "stdout"
        }
      ]
    },
    {
      "cell_type": "code",
      "metadata": {
        "id": "Mogiz8ltWjkw",
        "colab_type": "code",
        "outputId": "1418713d-eba0-4774-ac8f-2253f5c637ce",
        "colab": {
          "base_uri": "https://localhost:8080/",
          "height": 34
        }
      },
      "source": [
        "import tensorflow as tf\n",
        "tf.test.gpu_device_name()"
      ],
      "execution_count": 0,
      "outputs": [
        {
          "output_type": "execute_result",
          "data": {
            "text/plain": [
              "'/device:GPU:0'"
            ]
          },
          "metadata": {
            "tags": []
          },
          "execution_count": 2
        }
      ]
    },
    {
      "cell_type": "code",
      "metadata": {
        "id": "Spw2X52R91kf",
        "colab_type": "code",
        "outputId": "94b52805-96ab-4345-b26f-963b9182c766",
        "colab": {
          "base_uri": "https://localhost:8080/",
          "height": 34
        }
      },
      "source": [
        "import tensorflow as tf\n",
        "import numpy as np\n",
        "import keras.backend as K\n",
        "import matplotlib.pyplot as plt\n",
        "import pandas as pd\n",
        "\n",
        "\n",
        "from tensorflow.keras.applications.densenet import DenseNet201, preprocess_input\n",
        "from tensorflow.keras.layers import Input, Dense, GlobalAveragePooling2D, Dropout\n",
        "from tensorflow.keras.models import Model\n",
        "from tensorflow.keras.preprocessing.image import ImageDataGenerator\n",
        "from tensorflow.keras.preprocessing import image\n",
        "from tensorflow.keras.models import load_model\n",
        "from tensorflow.keras import losses, optimizers, activations\n",
        "from tensorflow.keras.optimizers import Adam\n",
        "from tensorflow.keras.callbacks import ModelCheckpoint\n",
        "from sklearn.metrics import confusion_matrix, classification_report"
      ],
      "execution_count": 0,
      "outputs": [
        {
          "output_type": "stream",
          "text": [
            "Using TensorFlow backend.\n"
          ],
          "name": "stderr"
        }
      ]
    },
    {
      "cell_type": "markdown",
      "metadata": {
        "id": "NGZBuGRAOuDl",
        "colab_type": "text"
      },
      "source": [
        "#Model Customization"
      ]
    },
    {
      "cell_type": "code",
      "metadata": {
        "id": "A0piolF_qWNF",
        "colab_type": "code",
        "outputId": "f0c8747b-736d-4180-ea08-40bff12832db",
        "colab": {
          "base_uri": "https://localhost:8080/",
          "height": 51
        }
      },
      "source": [
        "#change number of classes according your configuration\n",
        "CLASSES = 4\n",
        "\n",
        "base_model = DenseNet201(weights='imagenet', include_top=False, input_shape = (200,200,3))\n",
        "\n",
        "x = base_model.output\n",
        "x = GlobalAveragePooling2D()(x)\n",
        "x = Dropout(0.5)(x)\n",
        "predictions = Dense(CLASSES, activation='softmax')(x)\n",
        "\n",
        "model = Model(inputs=base_model.input, outputs=predictions)\n",
        "\n",
        "# training all the layers\n",
        "for layer in base_model.layers:\n",
        "  layer.trainable = True\n",
        "      \n",
        "model.compile(optimizer=optimizers.Adam(lr=0.0001), loss='categorical_crossentropy', metrics=['acc'])"
      ],
      "execution_count": 0,
      "outputs": [
        {
          "output_type": "stream",
          "text": [
            "Downloading data from https://storage.googleapis.com/tensorflow/keras-applications/densenet/densenet201_weights_tf_dim_ordering_tf_kernels_notop.h5\n",
            "74842112/74836368 [==============================] - 1s 0us/step\n"
          ],
          "name": "stdout"
        }
      ]
    },
    {
      "cell_type": "code",
      "metadata": {
        "id": "O0MxMMWVCE4a",
        "colab_type": "code",
        "colab": {}
      },
      "source": [
        "#visualize trainable layers\n",
        "for i, layer in enumerate(model.layers):\n",
        "   print(i, layer.name, layer.trainable)"
      ],
      "execution_count": 0,
      "outputs": []
    },
    {
      "cell_type": "code",
      "metadata": {
        "id": "xIDLMEbJL6Ue",
        "colab_type": "code",
        "colab": {}
      },
      "source": [
        "model.summary()"
      ],
      "execution_count": 0,
      "outputs": []
    },
    {
      "cell_type": "markdown",
      "metadata": {
        "id": "IbzAZoLqI8C_",
        "colab_type": "text"
      },
      "source": [
        "#Data preparation"
      ]
    },
    {
      "cell_type": "code",
      "metadata": {
        "id": "F-1mlihGKvmE",
        "colab_type": "code",
        "colab": {}
      },
      "source": [
        "WIDTH = 200\n",
        "HEIGHT = 200\n",
        "BATCH_SIZE = 32\n",
        "\n",
        "train_datagen = ImageDataGenerator(rescale = 1./255)\n",
        "\n",
        "val_datagen = ImageDataGenerator(rescale = 1./255)\n",
        "\n",
        "test_datagen = ImageDataGenerator(rescale = 1./255)\n",
        "\n",
        "train_generator = train_datagen.flow_from_directory(\n",
        "    TRAIN_PATH,\n",
        "    target_size=(HEIGHT, WIDTH),\n",
        "\t\tbatch_size=BATCH_SIZE,\n",
        "\t\tclass_mode='categorical',\n",
        "    shuffle=True)\n",
        "    \n",
        "validation_generator = val_datagen.flow_from_directory(\n",
        "    VAL_PATH,\n",
        "    target_size=(HEIGHT, WIDTH),\n",
        "    batch_size=BATCH_SIZE,\n",
        "    class_mode='categorical',\n",
        "    shuffle=False)\n",
        "\n",
        "test_generator = test_datagen.flow_from_directory(\n",
        "    TEST_PATH,\n",
        "    target_size=(HEIGHT, WIDTH),\n",
        "    batch_size=BATCH_SIZE,\n",
        "    class_mode='categorical',\n",
        "    shuffle=False\n",
        ")\n",
        "\n",
        "train_generator.class_indices\n"
      ],
      "execution_count": 0,
      "outputs": []
    },
    {
      "cell_type": "markdown",
      "metadata": {
        "id": "0VtipKYj0t8J",
        "colab_type": "text"
      },
      "source": [
        "#Initializing Training"
      ]
    },
    {
      "cell_type": "code",
      "metadata": {
        "id": "ljNSQIKw3NXn",
        "colab_type": "code",
        "colab": {}
      },
      "source": [
        "EPOCHS = 20\n",
        "\n",
        "filepath = \"drive_path/model_name.hdf5\"\n",
        "checkpoint = ModelCheckpoint(filepath, monitor='val_acc', verbose=1, save_best_only=True, mode='max')\n",
        "callbacks_list = [checkpoint]\n",
        "\n",
        "history = model.fit(\n",
        "    train_generator,\n",
        "    epochs=EPOCHS,\n",
        "    steps_per_epoch=len(train_generator),\n",
        "    validation_data=validation_generator,\n",
        "    validation_steps=len(validation_generator),\n",
        "    callbacks=callbacks_list)"
      ],
      "execution_count": 0,
      "outputs": []
    },
    {
      "cell_type": "markdown",
      "metadata": {
        "id": "Z5eX2MEi76z6",
        "colab_type": "text"
      },
      "source": [
        "#Confusion Matrix"
      ]
    },
    {
      "cell_type": "code",
      "metadata": {
        "id": "GX_p-AfIxi6B",
        "colab_type": "code",
        "colab": {}
      },
      "source": [
        "Y_pred = model2.predict(test_generator, batch_size=BATCH_SIZE, verbose=1, steps=len(test_generator), workers=0)\n",
        "y_pred = np.argmax(Y_pred, axis=1)\n",
        "print('Confusion Matrix')\n",
        "print(confusion_matrix(test_generator.classes, y_pred))\n",
        "print('Classification Report')\n",
        "target_names = ['1-13', '14-17', '18-35', '36-r']\n",
        "print(classification_report(test_generator.classes, y_pred, digits=4, target_names=target_names))"
      ],
      "execution_count": 0,
      "outputs": []
    },
    {
      "cell_type": "markdown",
      "metadata": {
        "id": "1d6HUzs4dw7X",
        "colab_type": "text"
      },
      "source": [
        "#Plot History of training"
      ]
    },
    {
      "cell_type": "code",
      "metadata": {
        "id": "dw_jbRmiN7Yu",
        "colab_type": "code",
        "colab": {}
      },
      "source": [
        "# summarize history for accuracy\n",
        "plt.plot(history.history['acc'])\n",
        "plt.plot(history.history['val_acc'])\n",
        "plt.title('model accuracy')\n",
        "plt.ylabel('accuracy')\n",
        "plt.xlabel('epoch')\n",
        "plt.legend(['train', 'test'], loc='upper left')\n",
        "plt.show()\n",
        "# summarize history for loss\n",
        "plt.plot(history.history['loss'])\n",
        "plt.plot(history.history['val_loss'])\n",
        "plt.title('model loss')\n",
        "plt.ylabel('loss')\n",
        "plt.xlabel('epoch')\n",
        "plt.legend(['train', 'test'], loc='upper left')\n",
        "plt.show()"
      ],
      "execution_count": 0,
      "outputs": []
    },
    {
      "cell_type": "markdown",
      "metadata": {
        "colab_type": "text",
        "id": "QWRu-IeBtuxM"
      },
      "source": [
        "#Reload Model and Training process"
      ]
    },
    {
      "cell_type": "code",
      "metadata": {
        "id": "tT1mpjtabokT",
        "colab_type": "code",
        "colab": {}
      },
      "source": [
        "model2 = load_model('drive_path/model_name.hdf5')\n",
        "\n",
        "for layer in model2.layers:\n",
        "  layer.trainable = True\n",
        "\n",
        "model2.compile(optimizer=optimizers.Adam(lr=0.0001), loss='categorical_crossentropy', metrics=['acc'])"
      ],
      "execution_count": 0,
      "outputs": []
    },
    {
      "cell_type": "code",
      "metadata": {
        "id": "BUmHh1TXKf8R",
        "colab_type": "code",
        "colab": {}
      },
      "source": [
        "model2.summary()"
      ],
      "execution_count": 0,
      "outputs": []
    },
    {
      "cell_type": "code",
      "metadata": {
        "id": "sXd9ZYaKJjlN",
        "colab_type": "code",
        "colab": {}
      },
      "source": [
        "train_generator.reset()\n",
        "validation_generator.reset()"
      ],
      "execution_count": 0,
      "outputs": []
    },
    {
      "cell_type": "code",
      "metadata": {
        "id": "7Ik8XkZW0ige",
        "colab_type": "code",
        "colab": {}
      },
      "source": [
        "EPOCHS = 10\n",
        "BATCH_SIZE = 32\n",
        "\n",
        "filepath = \"drive_path/model_name.hdf5\"\n",
        "checkpoint = ModelCheckpoint(filepath, monitor='val_acc', verbose=1, save_best_only=True, mode='max')\n",
        "\n",
        "callbacks = [checkpoint]\n",
        "\n",
        "\n",
        "history = model2.fit_generator(\n",
        "    train_generator,\n",
        "    epochs=EPOCHS,\n",
        "    validation_data=validation_generator,\n",
        "    callbacks=callbacks)\n",
        "\n",
        "#save all  \n",
        "NAME = \"model-DenseNet-4-classes\"  \n",
        "model2.save(f\"drive_path/{NAME}.model\")  "
      ],
      "execution_count": 0,
      "outputs": []
    },
    {
      "cell_type": "markdown",
      "metadata": {
        "id": "yBv7rEvdgLqk",
        "colab_type": "text"
      },
      "source": [
        "#Making Predictions"
      ]
    },
    {
      "cell_type": "markdown",
      "metadata": {
        "id": "8n6Ce1KDmVzo",
        "colab_type": "text"
      },
      "source": [
        "Reset test_generator for other prediction"
      ]
    },
    {
      "cell_type": "code",
      "metadata": {
        "id": "0obyQ8FEmdfG",
        "colab_type": "code",
        "colab": {}
      },
      "source": [
        "test_generator.reset()"
      ],
      "execution_count": 0,
      "outputs": []
    },
    {
      "cell_type": "code",
      "metadata": {
        "id": "8oUAuWw7gSOA",
        "colab_type": "code",
        "colab": {}
      },
      "source": [
        "HEIGHT = 200\n",
        "WIDTH = 200\n",
        "BATCH_SIZE = 32\n",
        "\n",
        "test_datagen = ImageDataGenerator(rescale=1./255)\n",
        "test_generator = test_datagen.flow_from_directory(\n",
        "    TEST_PATH,\n",
        "    target_size=(HEIGHT, WIDTH),\n",
        "    batch_size=BATCH_SIZE,\n",
        "    class_mode='categorical',\n",
        "    shuffle=False)\n",
        "\n"
      ],
      "execution_count": 0,
      "outputs": []
    },
    {
      "cell_type": "markdown",
      "metadata": {
        "id": "Z5HtI767-E5Y",
        "colab_type": "text"
      },
      "source": [
        "##### Making a DataFrame with the predictions"
      ]
    },
    {
      "cell_type": "code",
      "metadata": {
        "id": "CORRdDg1mgo4",
        "colab_type": "code",
        "colab": {}
      },
      "source": [
        "model2 = load_model('drive_path/model_name.hdf5')\n",
        "\n",
        "pred = model2.predict_generator(test_generator, verbose=1, steps=len(test_generator))\n",
        "predicted_class_indices = np.argmax(pred, axis=1)\n",
        "labels = (train_generator.class_indices)\n",
        "labels = dict((v,k) for k,v in labels.items())\n",
        "predictions = [labels[k] for k in predicted_class_indices]\n",
        "\n",
        "filenames = test_generator.filenames\n",
        "results = pd.DataFrame({\"Filename\":filenames,\n",
        "                        \"Predictions\":predictions})\n",
        "\n",
        "results\n",
        "results.to_csv(r'drive_path/filename.csv')"
      ],
      "execution_count": 0,
      "outputs": []
    },
    {
      "cell_type": "markdown",
      "metadata": {
        "id": "sW90B3f_O-cZ",
        "colab_type": "text"
      },
      "source": [
        "#Reload best checkpoint and Confusion Matrix"
      ]
    },
    {
      "cell_type": "code",
      "metadata": {
        "id": "1pkntdqkPJ8m",
        "colab_type": "code",
        "colab": {}
      },
      "source": [
        "model2 = load_model('drive_path/model_name.hdf5')\n",
        "\n",
        "Y_pred = model2.predict(test_generator, batch_size=BATCH_SIZE, verbose=1, steps=len(test_generator), workers=0)\n",
        "y_pred = np.argmax(Y_pred, axis=1)\n",
        "print('Confusion Matrix')\n",
        "print(confusion_matrix(test_generator.classes, y_pred))\n",
        "print('Classification Report')\n",
        "target_names = ['1-13', '14-17', '18-35', '36-r']\n",
        "print(classification_report(test_generator.classes, y_pred, digits=4, target_names=target_names))"
      ],
      "execution_count": 0,
      "outputs": []
    }
  ]
}