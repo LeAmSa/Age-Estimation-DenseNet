{
  "nbformat": 4,
  "nbformat_minor": 0,
  "metadata": {
    "colab": {
      "name": "DenseNet-Classification.ipynb",
      "provenance": [],
      "collapsed_sections": [],
      "toc_visible": true
    },
    "kernelspec": {
      "name": "python3",
      "display_name": "Python 3"
    },
    "accelerator": "GPU"
  },
  "cells": [
    {
      "cell_type": "code",
      "metadata": {
        "id": "6_9I7RUUNZkv",
        "colab_type": "code",
        "colab": {}
      },
      "source": [
        "from google.colab import drive\n",
        "\n",
        "GOOGLE_DRIVE_MOUNT_DIR = \"/content/drive\"\n",
        "drive.mount(GOOGLE_DRIVE_MOUNT_DIR, force_remount=True)"
      ],
      "execution_count": 0,
      "outputs": []
    },
    {
      "cell_type": "code",
      "metadata": {
        "id": "Mogiz8ltWjkw",
        "colab_type": "code",
        "colab": {}
      },
      "source": [
        "import tensorflow as tf\n",
        "tf.test.gpu_device_name()"
      ],
      "execution_count": 0,
      "outputs": []
    },
    {
      "cell_type": "code",
      "metadata": {
        "id": "Spw2X52R91kf",
        "colab_type": "code",
        "colab": {}
      },
      "source": [
        "import tensorflow as tf\n",
        "import numpy as np\n",
        "import keras.backend as K\n",
        "import datetime, os\n",
        "import matplotlib.pyplot as plt\n",
        "import pandas as pd\n",
        "\n",
        "\n",
        "from tensorflow.keras.applications.densenet import DenseNet201, preprocess_input\n",
        "from tensorflow.keras.layers import Input, Flatten, Dense, GlobalAveragePooling2D, Dropout\n",
        "from tensorflow.keras.models import Model\n",
        "from tensorflow.keras.preprocessing.image import ImageDataGenerator\n",
        "from tensorflow.keras.preprocessing import image\n",
        "from tensorflow.keras.models import load_model\n",
        "from tensorflow.keras import losses, optimizers, activations\n",
        "from tensorflow.keras.optimizers import SGD, Adam\n",
        "from tensorflow.keras.callbacks import TensorBoard, ModelCheckpoint\n",
        "from sklearn.metrics import confusion_matrix, classification_report\n",
        "from sklearn.utils.multiclass import unique_labels"
      ],
      "execution_count": 0,
      "outputs": []
    },
    {
      "cell_type": "markdown",
      "metadata": {
        "id": "ivF1v69eCiAT",
        "colab_type": "text"
      },
      "source": [
        "# Ages classes"
      ]
    },
    {
      "cell_type": "code",
      "metadata": {
        "id": "tgxISU8wC5-O",
        "colab_type": "code",
        "colab": {}
      },
      "source": [
        "#dataset with 2 classes\n",
        "TRAIN_PATH = \"../content/drive/My Drive/Rede Neural/MY DATASETS/SPLIT Binary Ages Dataset/train\"\n",
        "VAL_PATH = \"../content/drive/My Drive/Rede Neural/MY DATASETS/SPLIT Binary Ages Dataset/val\"\n",
        "TEST_PATH = \"../content/drive/My Drive/Rede Neural/MY DATASETS/SPLIT Binary Ages Dataset/test\""
      ],
      "execution_count": 0,
      "outputs": []
    },
    {
      "cell_type": "code",
      "metadata": {
        "id": "vC6_EuY6rU35",
        "colab_type": "code",
        "colab": {}
      },
      "source": [
        "#dataset with 7 classes\n",
        "TRAIN_PATH = \"/content/drive/My Drive/Rede Neural/MY DATASETS/FLIP Split Dataset Ages Balanced/train\"\n",
        "VAL_PATH = \"/content/drive/My Drive/Rede Neural/MY DATASETS/FLIP Split Dataset Ages Balanced/val\"\n",
        "TEST_PATH = \"/content/drive/My Drive/Rede Neural/MY DATASETS/FLIP Split Dataset Ages Balanced/test\""
      ],
      "execution_count": 0,
      "outputs": []
    },
    {
      "cell_type": "code",
      "metadata": {
        "id": "roITwXD3X6mG",
        "colab_type": "code",
        "colab": {}
      },
      "source": [
        "#dataset with 4 classes\n",
        "TRAIN_PATH = \"/content/drive/My Drive/Rede Neural/MY DATASETS/SPLIT UTK 4 Classes/train\"\n",
        "VAL_PATH = \"/content/drive/My Drive/Rede Neural/MY DATASETS/SPLIT UTK 4 Classes/val\"\n",
        "TEST_PATH = \"/content/drive/My Drive/Rede Neural/MY DATASETS/SPLIT UTK 4 Classes/test\""
      ],
      "execution_count": 0,
      "outputs": []
    },
    {
      "cell_type": "markdown",
      "metadata": {
        "id": "NGZBuGRAOuDl",
        "colab_type": "text"
      },
      "source": [
        "#Model Customization"
      ]
    },
    {
      "cell_type": "code",
      "metadata": {
        "id": "A0piolF_qWNF",
        "colab_type": "code",
        "outputId": "5960880d-a1d5-4992-d4cd-9b01a75b4e63",
        "colab": {
          "base_uri": "https://localhost:8080/",
          "height": 122
        }
      },
      "source": [
        "#change number of classes according your configuration\n",
        "CLASSES = 4\n",
        "\n",
        "base_model = DenseNet201(weights='imagenet', include_top=False, input_shape = (200,200,3))\n",
        "\n",
        "x = base_model.output\n",
        "x = GlobalAveragePooling2D()(x)\n",
        "x = Dropout(0.5)(x)\n",
        "predictions = Dense(CLASSES, activation='softmax')(x)\n",
        "\n",
        "model = Model(inputs=base_model.input, outputs=predictions)\n",
        "\n",
        "# training all the layers\n",
        "for layer in base_model.layers:\n",
        "  layer.trainable = True\n",
        "\n",
        "filepath = \"/content/drive/My Drive/Rede Neural/Checkpoints/Age Classification/DenseNet-weights.best-class-NEW-4classes.hdf5\"\n",
        "checkpoint = ModelCheckpoint(filepath, monitor='val_acc', verbose=1, save_best_only=True, mode='max')\n",
        "\n",
        "callbacks_list = [checkpoint]\n",
        "      \n",
        "model.compile(optimizer=optimizers.Adam(lr=0.0001), loss='categorical_crossentropy', metrics=['acc'])"
      ],
      "execution_count": 0,
      "outputs": [
        {
          "output_type": "stream",
          "text": [
            "WARNING:tensorflow:From /usr/local/lib/python3.6/dist-packages/tensorflow_core/python/ops/resource_variable_ops.py:1630: calling BaseResourceVariable.__init__ (from tensorflow.python.ops.resource_variable_ops) with constraint is deprecated and will be removed in a future version.\n",
            "Instructions for updating:\n",
            "If using Keras pass *_constraint arguments to layers.\n",
            "Downloading data from https://github.com/keras-team/keras-applications/releases/download/densenet/densenet201_weights_tf_dim_ordering_tf_kernels_notop.h5\n",
            "74842112/74836368 [==============================] - 3s 0us/step\n"
          ],
          "name": "stdout"
        }
      ]
    },
    {
      "cell_type": "code",
      "metadata": {
        "id": "O0MxMMWVCE4a",
        "colab_type": "code",
        "colab": {}
      },
      "source": [
        "#visualize trainable layers\n",
        "for i, layer in enumerate(model.layers):\n",
        "   print(i, layer.name, layer.trainable)"
      ],
      "execution_count": 0,
      "outputs": []
    },
    {
      "cell_type": "code",
      "metadata": {
        "id": "xIDLMEbJL6Ue",
        "colab_type": "code",
        "colab": {}
      },
      "source": [
        "model.summary()"
      ],
      "execution_count": 0,
      "outputs": []
    },
    {
      "cell_type": "markdown",
      "metadata": {
        "id": "IbzAZoLqI8C_",
        "colab_type": "text"
      },
      "source": [
        "#Data preparation"
      ]
    },
    {
      "cell_type": "code",
      "metadata": {
        "id": "F-1mlihGKvmE",
        "colab_type": "code",
        "outputId": "1e7533e5-72ff-4c21-ab72-cd7b2fef50a7",
        "colab": {
          "base_uri": "https://localhost:8080/",
          "height": 68
        }
      },
      "source": [
        "WIDTH = 200\n",
        "HEIGHT = 200\n",
        "BATCH_SIZE = 32\n",
        "\n",
        "\n",
        "# data augmentation\n",
        "train_datagen = ImageDataGenerator(rescale = 1./255)\n",
        "\n",
        "val_datagen = ImageDataGenerator(rescale = 1./255)\n",
        "\n",
        "train_generator = train_datagen.flow_from_directory(\n",
        "    TRAIN_PATH,\n",
        "    target_size=(HEIGHT, WIDTH),\n",
        "\t\tbatch_size=BATCH_SIZE,\n",
        "\t\tclass_mode='categorical',\n",
        "    shuffle=True)\n",
        "    \n",
        "validation_generator = val_datagen.flow_from_directory(\n",
        "    VAL_PATH,\n",
        "    target_size=(HEIGHT, WIDTH),\n",
        "    batch_size=BATCH_SIZE,\n",
        "    class_mode='categorical',\n",
        "    shuffle=False)\n",
        "\n",
        "train_generator.class_indices\n"
      ],
      "execution_count": 0,
      "outputs": [
        {
          "output_type": "stream",
          "text": [
            "Found 11384 images belonging to 4 classes.\n",
            "Found 1264 images belonging to 4 classes.\n"
          ],
          "name": "stdout"
        },
        {
          "output_type": "execute_result",
          "data": {
            "text/plain": [
              "{'1-13': 0, '14-17': 1, '18-35': 2, '36-r': 3}"
            ]
          },
          "metadata": {
            "tags": []
          },
          "execution_count": 6
        }
      ]
    },
    {
      "cell_type": "markdown",
      "metadata": {
        "id": "0VtipKYj0t8J",
        "colab_type": "text"
      },
      "source": [
        "#Initializing Training"
      ]
    },
    {
      "cell_type": "code",
      "metadata": {
        "id": "ljNSQIKw3NXn",
        "colab_type": "code",
        "colab": {}
      },
      "source": [
        "EPOCHS = 20\n",
        "BATCH_SIZE = 32\n",
        "\n",
        "\n",
        "history = model.fit_generator(\n",
        "    train_generator,\n",
        "    epochs=EPOCHS,\n",
        "    validation_data=validation_generator,\n",
        "    callbacks=callbacks_list)"
      ],
      "execution_count": 0,
      "outputs": []
    },
    {
      "cell_type": "markdown",
      "metadata": {
        "id": "Z5eX2MEi76z6",
        "colab_type": "text"
      },
      "source": [
        "#Confusion Matrix"
      ]
    },
    {
      "cell_type": "code",
      "metadata": {
        "id": "GX_p-AfIxi6B",
        "colab_type": "code",
        "colab": {}
      },
      "source": [
        "#for 7 classes\n",
        "imgs_validation = 714\n",
        "\n",
        "Y_pred = model.predict_generator(validation_generator, imgs_validation // BATCH_SIZE+1, workers=0)\n",
        "y_pred = np.argmax(Y_pred, axis=1)\n",
        "print('Confusion Matrix')\n",
        "print(confusion_matrix(validation_generator.classes, y_pred))\n",
        "print('Classification Report')\n",
        "target_names = ['1-10', '11-15', '16-18', '19-25', '26-40', '41-60', '61-r']\n",
        "print(classification_report(validation_generator.classes, y_pred, target_names=target_names))"
      ],
      "execution_count": 0,
      "outputs": []
    },
    {
      "cell_type": "code",
      "metadata": {
        "id": "9cxsnabq6HhB",
        "colab_type": "code",
        "colab": {}
      },
      "source": [
        "#for 4 classes\n",
        "imgs_validation = 1264\n",
        "\n",
        "Y_pred = model.predict_generator(validation_generator, imgs_validation // BATCH_SIZE+1, workers=0)\n",
        "y_pred = np.argmax(Y_pred, axis=1)\n",
        "print('Confusion Matrix')\n",
        "print(confusion_matrix(validation_generator.classes, y_pred))\n",
        "print('Classification Report')\n",
        "target_names = ['1-12', '13-17', '18-35', '36-r']\n",
        "print(classification_report(validation_generator.classes, y_pred, target_names=target_names))"
      ],
      "execution_count": 0,
      "outputs": []
    },
    {
      "cell_type": "code",
      "metadata": {
        "id": "1WEOrtZvxgTB",
        "colab_type": "code",
        "colab": {}
      },
      "source": [
        "#for 2 classes\n",
        "imgs_validation = 1000\n",
        "\n",
        "Y_pred = model.predict_generator(validation_generator, imgs_validation // BATCH_SIZE+1, workers=0)\n",
        "y_pred = np.argmax(Y_pred, axis=1)\n",
        "print('Confusion Matrix')\n",
        "print(confusion_matrix(validation_generator.classes, y_pred))\n",
        "print('Classification Report')\n",
        "target_names = ['1-17', '18-r']\n",
        "print(classification_report(validation_generator.classes, y_pred, target_names=target_names))"
      ],
      "execution_count": 0,
      "outputs": []
    },
    {
      "cell_type": "markdown",
      "metadata": {
        "id": "1d6HUzs4dw7X",
        "colab_type": "text"
      },
      "source": [
        "#Plot History of training"
      ]
    },
    {
      "cell_type": "code",
      "metadata": {
        "id": "dw_jbRmiN7Yu",
        "colab_type": "code",
        "colab": {}
      },
      "source": [
        "# summarize history for accuracy\n",
        "plt.plot(history.history['acc'])\n",
        "plt.plot(history.history['val_acc'])\n",
        "plt.title('model accuracy')\n",
        "plt.ylabel('accuracy')\n",
        "plt.xlabel('epoch')\n",
        "plt.legend(['train', 'test'], loc='upper left')\n",
        "plt.show()\n",
        "# summarize history for loss\n",
        "plt.plot(history.history['loss'])\n",
        "plt.plot(history.history['val_loss'])\n",
        "plt.title('model loss')\n",
        "plt.ylabel('loss')\n",
        "plt.xlabel('epoch')\n",
        "plt.legend(['train', 'test'], loc='upper left')\n",
        "plt.show()"
      ],
      "execution_count": 0,
      "outputs": []
    },
    {
      "cell_type": "markdown",
      "metadata": {
        "colab_type": "text",
        "id": "QWRu-IeBtuxM"
      },
      "source": [
        "#Reload Model and Training process"
      ]
    },
    {
      "cell_type": "code",
      "metadata": {
        "id": "tT1mpjtabokT",
        "colab_type": "code",
        "outputId": "8b79abbe-b519-4240-cb3d-aade43745aa2",
        "colab": {
          "base_uri": "https://localhost:8080/",
          "height": 241
        }
      },
      "source": [
        "model2 = load_model('/content/drive/My Drive/Rede Neural/Checkpoints/DenseNet-weights.best-class-newdivision-large.hdf5')\n",
        "\n",
        "for layer in model2.layers:\n",
        "  layer.trainable = True\n",
        "\n",
        "model2.compile(optimizer=optimizers.Adam(lr=0.0001), loss='categorical_crossentropy', metrics=['acc'])"
      ],
      "execution_count": 0,
      "outputs": [
        {
          "output_type": "stream",
          "text": [
            "WARNING:tensorflow:From /usr/local/lib/python3.6/dist-packages/tensorflow/python/ops/init_ops.py:97: calling GlorotUniform.__init__ (from tensorflow.python.ops.init_ops) with dtype is deprecated and will be removed in a future version.\n",
            "Instructions for updating:\n",
            "Call initializer instance with the dtype argument instead of passing it to the constructor\n",
            "WARNING:tensorflow:From /usr/local/lib/python3.6/dist-packages/tensorflow/python/ops/init_ops.py:1251: calling VarianceScaling.__init__ (from tensorflow.python.ops.init_ops) with dtype is deprecated and will be removed in a future version.\n",
            "Instructions for updating:\n",
            "Call initializer instance with the dtype argument instead of passing it to the constructor\n",
            "WARNING:tensorflow:From /usr/local/lib/python3.6/dist-packages/tensorflow/python/ops/init_ops.py:97: calling Zeros.__init__ (from tensorflow.python.ops.init_ops) with dtype is deprecated and will be removed in a future version.\n",
            "Instructions for updating:\n",
            "Call initializer instance with the dtype argument instead of passing it to the constructor\n",
            "WARNING:tensorflow:From /usr/local/lib/python3.6/dist-packages/tensorflow/python/ops/init_ops.py:97: calling Ones.__init__ (from tensorflow.python.ops.init_ops) with dtype is deprecated and will be removed in a future version.\n",
            "Instructions for updating:\n",
            "Call initializer instance with the dtype argument instead of passing it to the constructor\n"
          ],
          "name": "stdout"
        }
      ]
    },
    {
      "cell_type": "code",
      "metadata": {
        "id": "BUmHh1TXKf8R",
        "colab_type": "code",
        "colab": {}
      },
      "source": [
        "model2.summary()"
      ],
      "execution_count": 0,
      "outputs": []
    },
    {
      "cell_type": "code",
      "metadata": {
        "id": "sXd9ZYaKJjlN",
        "colab_type": "code",
        "colab": {}
      },
      "source": [
        "train_generator.reset()\n",
        "validation_generator.reset()"
      ],
      "execution_count": 0,
      "outputs": []
    },
    {
      "cell_type": "code",
      "metadata": {
        "id": "7Ik8XkZW0ige",
        "colab_type": "code",
        "colab": {}
      },
      "source": [
        "EPOCHS = 10\n",
        "BATCH_SIZE = 32\n",
        "\n",
        "filepath = \"/content/drive/My Drive/Rede Neural/Checkpoints/DenseNet-weights.best-class.hdf5\"\n",
        "checkpoint = ModelCheckpoint(filepath, monitor='val_acc', verbose=1, save_best_only=True, mode='max')\n",
        "\n",
        "callbacks = [checkpoint]\n",
        "\n",
        "\n",
        "history = model2.fit_generator(\n",
        "    train_generator,\n",
        "    epochs=EPOCHS,\n",
        "    validation_data=validation_generator,\n",
        "    callbacks=callbacks)\n",
        "  \n",
        "NAME = \"model-DenseNet-4-classes\"  \n",
        "model2.save(f\"/content/drive/My Drive/Rede Neural/Models/Ages Classes/{NAME}.model\")  "
      ],
      "execution_count": 0,
      "outputs": []
    },
    {
      "cell_type": "markdown",
      "metadata": {
        "id": "yBv7rEvdgLqk",
        "colab_type": "text"
      },
      "source": [
        "#Making Predictions"
      ]
    },
    {
      "cell_type": "markdown",
      "metadata": {
        "id": "8n6Ce1KDmVzo",
        "colab_type": "text"
      },
      "source": [
        "Reset test_generator for other prediction"
      ]
    },
    {
      "cell_type": "code",
      "metadata": {
        "id": "0obyQ8FEmdfG",
        "colab_type": "code",
        "colab": {}
      },
      "source": [
        "test_generator.reset()"
      ],
      "execution_count": 0,
      "outputs": []
    },
    {
      "cell_type": "code",
      "metadata": {
        "id": "8oUAuWw7gSOA",
        "colab_type": "code",
        "colab": {}
      },
      "source": [
        "HEIGHT = 200\n",
        "WIDTH = 200\n",
        "BATCH_SIZE = 32\n",
        "\n",
        "test_datagen = ImageDataGenerator(rescale=1./255)\n",
        "test_generator = test_datagen.flow_from_directory(\n",
        "    TEST_PATH,\n",
        "    target_size=(HEIGHT, WIDTH),\n",
        "    batch_size=BATCH_SIZE,\n",
        "    class_mode='categorical',\n",
        "    shuffle=False)\n",
        "\n"
      ],
      "execution_count": 0,
      "outputs": []
    },
    {
      "cell_type": "code",
      "metadata": {
        "id": "CORRdDg1mgo4",
        "colab_type": "code",
        "outputId": "a66a4b39-9575-4426-ba6a-221d9ec5d422",
        "colab": {
          "base_uri": "https://localhost:8080/",
          "height": 258
        }
      },
      "source": [
        "model2 = load_model('/content/drive/My Drive/Rede Neural/Checkpoints/Age Classification/DenseNet-weights.best-class-NEW-4classes.hdf5')\n",
        "\n",
        "num_images = 337\n",
        "\n",
        "pred = model2.predict_generator(test_generator, verbose=1, steps=num_images/BATCH_SIZE)\n",
        "predicted_class_indices = np.argmax(pred, axis=1)\n",
        "labels = (train_generator.class_indices)\n",
        "labels = dict((v,k) for k,v in labels.items())\n",
        "predictions = [labels[k] for k in predicted_class_indices]\n",
        "\n",
        "filenames = test_generator.filenames\n",
        "results = pd.DataFrame({\"Filename\":filenames,\n",
        "                        \"Predictions\":predictions})\n",
        "\n",
        "results\n",
        "results.to_csv(r'/content/drive/My Drive/Rede Neural/TESTS/DenseNet201_test-4-classes.csv')"
      ],
      "execution_count": 0,
      "outputs": [
        {
          "output_type": "stream",
          "text": [
            "WARNING:tensorflow:From /usr/local/lib/python3.6/dist-packages/tensorflow_core/python/ops/init_ops.py:97: calling GlorotUniform.__init__ (from tensorflow.python.ops.init_ops) with dtype is deprecated and will be removed in a future version.\n",
            "Instructions for updating:\n",
            "Call initializer instance with the dtype argument instead of passing it to the constructor\n",
            "WARNING:tensorflow:From /usr/local/lib/python3.6/dist-packages/tensorflow_core/python/ops/init_ops.py:97: calling Zeros.__init__ (from tensorflow.python.ops.init_ops) with dtype is deprecated and will be removed in a future version.\n",
            "Instructions for updating:\n",
            "Call initializer instance with the dtype argument instead of passing it to the constructor\n",
            "WARNING:tensorflow:From /usr/local/lib/python3.6/dist-packages/tensorflow_core/python/ops/init_ops.py:97: calling Ones.__init__ (from tensorflow.python.ops.init_ops) with dtype is deprecated and will be removed in a future version.\n",
            "Instructions for updating:\n",
            "Call initializer instance with the dtype argument instead of passing it to the constructor\n",
            "WARNING:tensorflow:From /usr/local/lib/python3.6/dist-packages/tensorflow_core/python/ops/resource_variable_ops.py:1630: calling BaseResourceVariable.__init__ (from tensorflow.python.ops.resource_variable_ops) with constraint is deprecated and will be removed in a future version.\n",
            "Instructions for updating:\n",
            "If using Keras pass *_constraint arguments to layers.\n",
            "11/10 [===============================] - 115s 10s/step\n"
          ],
          "name": "stdout"
        }
      ]
    },
    {
      "cell_type": "markdown",
      "metadata": {
        "id": "qa5Mnfv1mdJt",
        "colab_type": "text"
      },
      "source": [
        "Save in CSV file"
      ]
    },
    {
      "cell_type": "code",
      "metadata": {
        "id": "4yozpFF5r8ut",
        "colab_type": "code",
        "colab": {}
      },
      "source": [
        "results.to_csv(r'/content/drive/My Drive/Rede Neural/TESTS/DenseNet201_test.csv')"
      ],
      "execution_count": 0,
      "outputs": []
    },
    {
      "cell_type": "markdown",
      "metadata": {
        "id": "sW90B3f_O-cZ",
        "colab_type": "text"
      },
      "source": [
        "#Reload best checkpoint and Confusion Matrix"
      ]
    },
    {
      "cell_type": "code",
      "metadata": {
        "id": "1pkntdqkPJ8m",
        "colab_type": "code",
        "colab": {}
      },
      "source": [
        "model2 = load_model('/content/drive/My Drive/Rede Neural/Checkpoints/Age Classification/DenseNet-weights.best-class-NEW-4classes.hdf5')\n",
        "\n",
        "Y_pred = model2.predict_generator(validation_generator, 1264 // BATCH_SIZE+1, workers=0)\n",
        "y_pred = np.argmax(Y_pred, axis=1)\n",
        "print('Confusion Matrix')\n",
        "print(confusion_matrix(validation_generator.classes, y_pred))\n",
        "print('Classification Report')\n",
        "target_names = ['1-13', '14-17', '18-35', '36-r']\n",
        "print(classification_report(validation_generator.classes, y_pred, target_names=target_names))"
      ],
      "execution_count": 0,
      "outputs": []
    }
  ]
}